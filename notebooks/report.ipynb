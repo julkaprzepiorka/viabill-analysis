{
 "cells": [
  {
   "cell_type": "markdown",
   "id": "7b9bafdd",
   "metadata": {},
   "source": [
    "# Viabill – Analysis Report\n",
    "\n",
    "This notebook loads precomputed CSVs (SQL outputs) and creates charts for:\n",
    "1) Portfolio Overview\n",
    "2) Payment Analysis\n",
    "3) Vintage Analysis\n",
    "\n",
    "Data source: `outputs/*.csv`"
   ]
  },
  {
   "cell_type": "code",
   "execution_count": null,
   "id": "d5ad442c",
   "metadata": {},
   "outputs": [],
   "source": [
    "\n",
    "from pathlib import Path\n",
    "import pandas as pd\n",
    "import matplotlib.pyplot as plt\n",
    "\n",
    "DATA = Path(\"outputs\")\n",
    "PLOTS = DATA / \"plots\"\n",
    "PLOTS.mkdir(parents=True, exist_ok=True)\n",
    "\n",
    "def line(df, x, y, title, fname):\n",
    "    plt.figure()\n",
    "    plt.plot(df[x], df[y])\n",
    "    plt.title(title); plt.xlabel(x); plt.ylabel(y)\n",
    "    if pd.api.types.is_datetime64_any_dtype(df[x]):\n",
    "        plt.xticks(rotation=45, ha=\"right\")\n",
    "    plt.tight_layout(); plt.savefig(PLOTS / fname); plt.show()\n",
    "\n",
    "def bar(df, x, y, title, fname):\n",
    "    plt.figure()\n",
    "    plt.bar(df[x], df[y])\n",
    "    plt.title(title); plt.xlabel(x); plt.ylabel(y)\n",
    "    if pd.api.types.is_datetime64_any_dtype(df[x]):\n",
    "        plt.xticks(rotation=45, ha=\"right\")\n",
    "    plt.tight_layout(); plt.savefig(PLOTS / fname); plt.show()\n",
    "\n",
    "def parse_month(df, col=\"month\"):\n",
    "    try:\n",
    "        df[col] = pd.to_datetime(df[col], format=\"%Y-%m\")\n",
    "    except Exception:\n",
    "        try: df[col] = pd.to_datetime(df[col])\n",
    "        except Exception: pass\n",
    "    return df\n"
   ]
  },
  {
   "cell_type": "markdown",
   "id": "d5251eda",
   "metadata": {},
   "source": [
    "## 1) Portfolio Overview"
   ]
  },
  {
   "cell_type": "code",
   "execution_count": null,
   "id": "4d1d7f4b",
   "metadata": {},
   "outputs": [],
   "source": [
    "\n",
    "new_df = parse_month(pd.read_csv(DATA / \"new_customers_by_month.csv\"))\n",
    "act_df = parse_month(pd.read_csv(DATA / \"active_customers_by_month.csv\"))\n",
    "vol_df = parse_month(pd.read_csv(DATA / \"transactions_volume_by_month.csv\"))\n",
    "inst_df = parse_month(pd.read_csv(DATA / \"installments_breakdown_by_month.csv\"))\n",
    "cat_df = parse_month(pd.read_csv(DATA / \"merchant_categories_by_month.csv\"))\n"
   ]
  },
  {
   "cell_type": "code",
   "execution_count": null,
   "id": "30d5bfa2",
   "metadata": {},
   "outputs": [],
   "source": [
    "\n",
    "line(new_df, \"month\", \"new_customers\", \"New customers by month\", \"nb_new_customers_by_month.png\")\n",
    "line(act_df, \"month\", \"active_customers\", \"Active customers by month\", \"nb_active_customers_by_month.png\")\n",
    "bar(vol_df, \"month\", \"tx_count\", \"Transactions count by month\", \"nb_tx_count_by_month.png\")\n",
    "line(vol_df, \"month\", \"tx_amount\", \"Transactions amount by month\", \"nb_tx_amount_by_month.png\")\n"
   ]
  },
  {
   "cell_type": "markdown",
   "id": "67bdff6b",
   "metadata": {},
   "source": [
    "## 2) Payment Analysis"
   ]
  },
  {
   "cell_type": "code",
   "execution_count": null,
   "id": "7fe454c4",
   "metadata": {},
   "outputs": [],
   "source": [
    "\n",
    "by_age = pd.read_csv(DATA / \"dpd90_by_age_band.csv\")\n",
    "by_income = pd.read_csv(DATA / \"dpd90_by_income_band.csv\")\n",
    "by_tx_month = pd.read_csv(DATA / \"dpd90_by_tx_month.csv\")\n",
    "by_tx_month[\"tx_month\"] = pd.to_datetime(by_tx_month[\"tx_month\"], format=\"%Y-%m\", errors=\"coerce\")\n"
   ]
  },
  {
   "cell_type": "code",
   "execution_count": null,
   "id": "e0f34c37",
   "metadata": {},
   "outputs": [],
   "source": [
    "\n",
    "bar(by_age, \"age_band\", \"dpd90_rate_pct\", \"DPD90 rate by age band\", \"nb_dpd90_by_age_band.png\")\n",
    "bar(by_income, \"income_band\", \"dpd90_rate_pct\", \"DPD90 rate by income band\", \"nb_dpd90_by_income_band.png\")\n",
    "line(by_tx_month, \"tx_month\", \"dpd90_rate_pct\", \"DPD90 rate by transaction month\", \"nb_dpd90_by_tx_month.png\")\n"
   ]
  },
  {
   "cell_type": "markdown",
   "id": "a1d058ae",
   "metadata": {},
   "source": [
    "## 3) Vintage Analysis"
   ]
  },
  {
   "cell_type": "code",
   "execution_count": null,
   "id": "47cff44f",
   "metadata": {},
   "outputs": [],
   "source": [
    "\n",
    "vint_cum = pd.read_csv(DATA / \"vintage_curves_cumulative.csv\")\n",
    "# Draw up to 8 cohorts for readability\n",
    "for coh in sorted(vint_cum[\"cohort_month\"].unique())[:8]:\n",
    "    sub = vint_cum[vint_cum[\"cohort_month\"] == coh].sort_values(\"month_plus\")\n",
    "    line(sub, \"month_plus\", \"dpd90_cum_pct\", f\"Vintage curve – cohort {coh}\", f\"nb_vintage_curve_{coh}.png\")\n"
   ]
  }
 ],
 "metadata": {
  "language_info": {
   "name": "python"
  }
 },
 "nbformat": 4,
 "nbformat_minor": 5
}
